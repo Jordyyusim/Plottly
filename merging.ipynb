{
 "cells": [
  {
   "cell_type": "code",
   "execution_count": null,
   "metadata": {},
   "outputs": [],
   "source": [
    ".divide() : To divide 2 dataframes with same columns. use axis='rows'\n",
    "week1.divide(week1_mean, axis='rows')\n",
    "\n",
    ".add() : to add 2 dataframes with same columns. use fill_value=0 if theres NaN value\n",
    "bronze.add(silver, fill_value=0)\n",
    "bronze.add(silver, fill_value=0).add(gold, fill_value=0)"
   ]
  },
  {
   "cell_type": "markdown",
   "metadata": {},
   "source": [
    "### _Merging DataFrames_\n",
    "df1.append(df2).reset_index(drop=True)\n",
    "\n",
    "pd.concat([df1, df2], ignore_index=True)\n",
    "\n",
    "pd.concat([df1, df2], axis=1) -> horizontally\n",
    "\n",
    "pd.concat([df1, df2], axis=0) -> concatenating rows\n",
    "\n",
    "pd.concat([df1, df2], keys=[index1, index2], axis=0) -> keys for multi-indexes\n",
    "\n",
    "pd.concat([df1, df2], axis='columns') -> concatenating columns\n",
    "\n",
    "#### _Merging Specific Column_\n",
    "pd.merge(df1, df2, on='Col_Name')\n",
    "\n",
    "#### _Suffixes_\n",
    "pd.merge(df1, df2, on='Col_Name', suffixes=['_df1', '_df2']) -> membedakan mana value di df1 dan value di df2\n",
    "\n",
    "#### _Merging on columns with non-matching labels_\n",
    "pd.merge(df1, df2, left_on='Col_1', right_on='Col_2')\n",
    "\n",
    "#### _Merging on multiple columns_\n",
    "pd.merge(df1, df2, on=['Col_1', Col_2'])\n",
    "\n",
    "### _Ordered Merge_\n",
    "pd.merge_ordered("
   ]
  }
 ],
 "metadata": {
  "kernelspec": {
   "display_name": "Python 3",
   "language": "python",
   "name": "python3"
  },
  "language_info": {
   "codemirror_mode": {
    "name": "ipython",
    "version": 3
   },
   "file_extension": ".py",
   "mimetype": "text/x-python",
   "name": "python",
   "nbconvert_exporter": "python",
   "pygments_lexer": "ipython3",
   "version": "3.8.1"
  }
 },
 "nbformat": 4,
 "nbformat_minor": 4
}
