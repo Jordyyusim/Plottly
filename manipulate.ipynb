{
 "cells": [
  {
   "cell_type": "markdown",
   "metadata": {},
   "source": [
    ".values: A two-dimensional NumPy array of values.\n",
    "\n",
    ".columns: An index of columns: the column names.\n",
    "\n",
    ".index: An index for the rows: either row numbers or row names."
   ]
  },
  {
   "cell_type": "markdown",
   "metadata": {},
   "source": [
    "### _Sorting Values_\n",
    "\n",
    "one column : .sort_values('COL_Name')\n",
    "    \n",
    "multiple colums : .sort_values(['COL_Name', 'COL_Name'])"
   ]
  },
  {
   "cell_type": "markdown",
   "metadata": {},
   "source": [
    "### _Subsetting Columns_\n",
    "\n",
    "To select one column : df['COL_Name']\n",
    "\n",
    "To select multiple column : df[['COL_Name, 'COL_Name']]"
   ]
  },
  {
   "cell_type": "markdown",
   "metadata": {},
   "source": [
    "### _Subsetting Rows_\n",
    "\n",
    "known as filtering rows or selecting rows\n",
    "\n",
    "select one rows : df[df['berat' > 60]]\n",
    "\n",
    "select multiple rows : df[(df[\"berat\"] > 60) & (df[\"warna\"] == \"merah\")]\n",
    "\n",
    "#### _Subsetting Rows by caterogical variables_\n",
    "\n",
    "colors = [\"brown\", \"black\", \"tan\"]\n",
    "condition = dogs[\"color\"].isin(colors)\n",
    "dogs[condition]\n",
    "\n",
    "canu = [\"California\", \"Arizona\", \"Nevada\", \"Utah\"]\n",
    "mojave_homelessness = homelessness[homelessness[\"state\"].isin(canu)]"
   ]
  },
  {
   "cell_type": "markdown",
   "metadata": {},
   "source": [
    "#### Import NumPy and create custom IQR function\n",
    "import numpy as np\n",
    "def iqr(column):\n",
    "    return column.quantile(0.75) - column.quantile(0.25)\n",
    "\n",
    "#### Update to print IQR and median of temperature_c, fuel_price_usd_per_l, & unemployment\n",
    "print(sales[[\"temperature_c\", \"fuel_price_usd_per_l\", \"unemployment\"]].agg([iqr, np.median]))"
   ]
  },
  {
   "cell_type": "markdown",
   "metadata": {},
   "source": [
    "### _Cumulative_\n",
    "\n",
    ".cumsum() : summing (+) a data in a column for each row in dataframe\n",
    "    \n",
    ".cummax()\n",
    "\n",
    ".cummin()\n",
    "\n",
    ".cumprod()"
   ]
  },
  {
   "cell_type": "markdown",
   "metadata": {},
   "source": [
    "### _Dropping Duplicate Data_\n",
    "\n",
    "df.drop_duplicate(subset='Col_Name') : drop similiar values in a chosen column\n",
    "1|Andi|\n",
    "2|Budi|\n",
    "3|Andi| -> this one will be deleted\n",
    "\n",
    "df.drop_duplicate(subset=['Col_Name', 'Col_Name']) : drop similiar values \n",
    "1|Andi|Anjing\n",
    "2|Budi|Kucing\n",
    "3|Andi|Kucing -> this one will not be deleted because both columns have diff values\n",
    "3|Budi|Kucing -> this one will be deleted"
   ]
  },
  {
   "cell_type": "markdown",
   "metadata": {},
   "source": [
    "### _Value Count_\n",
    "df['Col_Name'].value_counts()\n",
    "\n",
    "df['Col_Name'].value_counts(sort=True)\n",
    "\n",
    "df['Col_Name'].value_counts(normalize=True) -> in percentage"
   ]
  },
  {
   "cell_type": "markdown",
   "metadata": {},
   "source": [
    "### _Grouped Summaries_\n",
    "\n",
    "df.groupby('color')['berat'].mean() : dataframe will be grouped by 'color' and each datas in 'color' will be get the 'berat' mean\n",
    "\n",
    "df.groupby('color')['berat'].agg([min, max, sum])\n",
    "\n",
    "df.groupby(['color', 'breed'])['berat'].mean()\n",
    "\n",
    "df.groupby(['color', 'breed'])[['berat', 'tinggi']].mean()"
   ]
  },
  {
   "cell_type": "markdown",
   "metadata": {},
   "source": [
    "### _Group by Pivot Tables_\n",
    "dogs.pivot_table(values='berat', index='color', aggfunc=[np.mean, np.median])\n",
    "\n",
    "#### _Pivot 2 variables_\n",
    "dogs.pivot_table(values='berat', index='color', columns='breed')\n",
    "\n",
    "dogs.pivot_table(values='berat', index='color', columns='breed', fill_value=0) : fill_value=0 if theres NaN value will be replaced by 0\n",
    "\n",
    "dogs.pivot_table(values='berat', index='color', columns='breed', fill_value=0, margins=True)"
   ]
  },
  {
   "cell_type": "markdown",
   "metadata": {},
   "source": [
    "### _Set Index_\n",
    "dogs.set_index('breed')\n",
    "\n",
    "### _Remove Index_\n",
    "dog.reset_index()"
   ]
  },
  {
   "cell_type": "markdown",
   "metadata": {},
   "source": [
    "### _Subsetting with index_\n",
    "dogs[dogs['name'].isin(['Andi', 'Budi'])]\n",
    "\n",
    "dogs.loc[['Andi', 'Budi']] -> set 'name' as index first"
   ]
  },
  {
   "cell_type": "markdown",
   "metadata": {},
   "source": [
    "### _Sort Index_\n",
    "dogs.sort_index('Index_Name')\n",
    "\n",
    "dogs.sort_index(Level=['Index_Name', 'Index_Name'], ascending=[True, False])"
   ]
  },
  {
   "cell_type": "markdown",
   "metadata": {},
   "source": [
    "### _Slicing Index_\n",
    "#### _Slicing the outer index_\n",
    "dogs.loc['Chihuahua:Poodle'] -> get all datas from index chihuahua until poodle\n",
    "\n",
    "#### _Slicing the inner index_\n",
    "dogs.loc[('Chihuahua', 'brown'):('Poodle', 'black')]"
   ]
  },
  {
   "cell_type": "markdown",
   "metadata": {},
   "source": [
    "### _Slicing Column_\n",
    "dogs.loc[:, 'Col_Name':'Col_Name']\n",
    "\n",
    "### _Slice Twice_\n",
    "dogs.loc[('Chihuahua', 'brown'):('Poodle', 'black'), 'Col_Name':'Col_Name']"
   ]
  },
  {
   "cell_type": "markdown",
   "metadata": {},
   "source": [
    "### _Set Date as Index_\n",
    "dogs.set_index('date of birth').sort_index()\n",
    "dogs.loc['2014-10-10':'2018-10-10']\n",
    "\n",
    "dogs.loc[2014:2016]"
   ]
  },
  {
   "cell_type": "markdown",
   "metadata": {},
   "source": [
    "### _Subsetting by Row/Column Number\n",
    "dogs.iloc[1:10, 2:4]"
   ]
  },
  {
   "cell_type": "markdown",
   "metadata": {},
   "source": [
    "### _Detecting Missing Value_\n",
    "\n",
    "df.isna()\n",
    "\n",
    "df.isna().any()\n",
    "\n",
    "df.isna().sum()\n",
    "\n",
    "### _Replace Missing Value_\n",
    "\n",
    "df.fillna(0)"
   ]
  }
 ],
 "metadata": {
  "kernelspec": {
   "display_name": "Python 3",
   "language": "python",
   "name": "python3"
  },
  "language_info": {
   "codemirror_mode": {
    "name": "ipython",
    "version": 3
   },
   "file_extension": ".py",
   "mimetype": "text/x-python",
   "name": "python",
   "nbconvert_exporter": "python",
   "pygments_lexer": "ipython3",
   "version": "3.8.1"
  }
 },
 "nbformat": 4,
 "nbformat_minor": 4
}
