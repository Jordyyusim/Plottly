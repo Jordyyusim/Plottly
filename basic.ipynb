{
 "cells": [
  {
   "cell_type": "markdown",
   "metadata": {},
   "source": [
    "# __PLOTLY__\n",
    "##### pip install plotly"
   ]
  },
  {
   "cell_type": "code",
   "execution_count": 1,
   "metadata": {},
   "outputs": [],
   "source": [
    "import numpy as np\n",
    "import pandas as pd\n",
    "import matplotlib.pyplot as plt\n",
    "import plotly"
   ]
  },
  {
   "cell_type": "markdown",
   "metadata": {},
   "source": [
    "### 3 Ways How to Use Plotly :\n",
    "- Plot from plotly object (__*plotly.graph_objects*__)\n",
    "- Plot from python dictionary (__*plotly.io*__)\n",
    "- Plot with plotly express (__*plotly.express*__)"
   ]
  },
  {
   "cell_type": "markdown",
   "metadata": {},
   "source": [
    "#### Plot from plotly object (__*plotly.graph_objects*__)\n",
    "##### 1. create plot\n",
    "##### 2. create figure\n",
    "##### 3. insert plot into figure\n",
    "\n",
    "##### mode = 'markers', 'lines', 'lines+markers'\n",
    "##### dash = 'dash', 'dot', 'dashdot'"
   ]
  },
  {
   "cell_type": "code",
   "execution_count": 18,
   "metadata": {},
   "outputs": [],
   "source": [
    "import plotly.graph_objects as go"
   ]
  },
  {
   "cell_type": "markdown",
   "metadata": {},
   "source": [
    "### _SCATTER & LINE_"
   ]
  },
  {
   "cell_type": "code",
   "execution_count": 16,
   "metadata": {},
   "outputs": [],
   "source": [
    "plot = go.Scatter(\n",
    "    x = np.arange(10),\n",
    "    y = np.arange(10),\n",
    "    mode = 'lines+markers',\n",
    "    marker = {'color': ['red', 'yellow', 'blue', 'black', 'green'] * 2, 'size':14},\n",
    "    line = {'color': 'pink', 'dash': 'dashdot', 'width':5}\n",
    ")\n",
    "\n",
    "fig = go.Figure(\n",
    "    data = plot,\n",
    "    layout_title_text = 'PLOTLY NAME'\n",
    ")\n",
    "\n",
    "fig.update_layout(\n",
    "    title = 'scatter & line plot', xaxis_title = 'Nilai X', yaxis_title = 'Nilai Y')\n",
    "\n",
    "# fig.show()\n",
    "fig.write_html(\n",
    "    '1.html', auto_open=False)\n"
   ]
  },
  {
   "cell_type": "code",
   "execution_count": 17,
   "metadata": {},
   "outputs": [
    {
     "data": {
      "text/html": [
       "\n",
       "        <iframe\n",
       "            width=\"700\"\n",
       "            height=\"600\"\n",
       "            src=\"./1.html\"\n",
       "            frameborder=\"0\"\n",
       "            allowfullscreen\n",
       "        ></iframe>\n",
       "        "
      ],
      "text/plain": [
       "<IPython.lib.display.IFrame at 0x1d9b67fbc70>"
      ]
     },
     "execution_count": 17,
     "metadata": {},
     "output_type": "execute_result"
    }
   ],
   "source": [
    "from IPython.display import IFrame\n",
    "IFrame(src='./1.html', width=700, height=600)"
   ]
  },
  {
   "cell_type": "markdown",
   "metadata": {},
   "source": [
    "### _BAR_"
   ]
  },
  {
   "cell_type": "code",
   "execution_count": 25,
   "metadata": {},
   "outputs": [
    {
     "data": {
      "text/html": [
       "\n",
       "        <iframe\n",
       "            width=\"700\"\n",
       "            height=\"600\"\n",
       "            src=\"./bar.html\"\n",
       "            frameborder=\"0\"\n",
       "            allowfullscreen\n",
       "        ></iframe>\n",
       "        "
      ],
      "text/plain": [
       "<IPython.lib.display.IFrame at 0x1d9b652c700>"
      ]
     },
     "execution_count": 25,
     "metadata": {},
     "output_type": "execute_result"
    }
   ],
   "source": [
    "plot = go.Bar(\n",
    "    x = ['Ayam', 'Bebek', 'Kalkun'],\n",
    "    y = [30, 49, 12],\n",
    "    marker = {'color': ['red', 'green', 'blue']},\n",
    "    text = [30, 49, 12],\n",
    "    textposition = 'auto'\n",
    ")\n",
    "\n",
    "fig = go.Figure(\n",
    "    data = plot,\n",
    "    layout_title_text = 'AVES')\n",
    "    \n",
    "fig.write_html(\n",
    "    'bar.html', auto_open=False)\n",
    "\n",
    "from IPython.display import IFrame\n",
    "IFrame(src='./bar.html', width=700, height=600)"
   ]
  },
  {
   "cell_type": "markdown",
   "metadata": {},
   "source": [
    "### _2 BARS_"
   ]
  },
  {
   "cell_type": "code",
   "execution_count": 29,
   "metadata": {},
   "outputs": [
    {
     "data": {
      "text/html": [
       "\n",
       "        <iframe\n",
       "            width=\"700\"\n",
       "            height=\"600\"\n",
       "            src=\"./barbar.html\"\n",
       "            frameborder=\"0\"\n",
       "            allowfullscreen\n",
       "        ></iframe>\n",
       "        "
      ],
      "text/plain": [
       "<IPython.lib.display.IFrame at 0x1d9b63a4bb0>"
      ]
     },
     "execution_count": 29,
     "metadata": {},
     "output_type": "execute_result"
    }
   ],
   "source": [
    "plot = go.Bar(\n",
    "    name = 'Kandang A',\n",
    "    x = ['Ayam', 'Bebek', 'Kalkun'],\n",
    "    y = [30, 49, 12],\n",
    "    marker = {'color': 'red'},\n",
    "    text = [30, 49, 12],\n",
    "    textposition = 'auto'\n",
    ")\n",
    "\n",
    "plot2 = go.Bar(\n",
    "    name = 'Kandang B',\n",
    "    x = ['Ayam', 'Bebek', 'Kalkun'],\n",
    "    y = [18, 5, 40],\n",
    "    marker = {'color': 'blue'},\n",
    "    text = [18, 5, 40],\n",
    "    textposition = 'auto'\n",
    ")\n",
    "\n",
    "fig = go.Figure(\n",
    "    data = [plot, plot2],\n",
    "    layout_title_text = 'AVES')\n",
    "    \n",
    "fig.write_html(\n",
    "    'barbar.html', auto_open=False)\n",
    "\n",
    "from IPython.display import IFrame\n",
    "IFrame(src='./barbar.html', width=700, height=600)"
   ]
  },
  {
   "cell_type": "markdown",
   "metadata": {},
   "source": [
    "### _NORMAL PIE_"
   ]
  },
  {
   "cell_type": "code",
   "execution_count": 42,
   "metadata": {},
   "outputs": [
    {
     "data": {
      "text/html": [
       "\n",
       "        <iframe\n",
       "            width=\"700\"\n",
       "            height=\"600\"\n",
       "            src=\"./pie.html\"\n",
       "            frameborder=\"0\"\n",
       "            allowfullscreen\n",
       "        ></iframe>\n",
       "        "
      ],
      "text/plain": [
       "<IPython.lib.display.IFrame at 0x1d9b67618e0>"
      ]
     },
     "execution_count": 42,
     "metadata": {},
     "output_type": "execute_result"
    }
   ],
   "source": [
    "plot = go.Pie(\n",
    "    labels = ['Ayam', 'Bebek', 'Kalkun'],\n",
    "    values = [45, 10, 18],\n",
    "    pull = [0, 0, 0.2])\n",
    "\n",
    "fig = go.Figure(\n",
    "    data = [plot],\n",
    "    layout_title_text = 'Pie Plot')\n",
    "\n",
    "fig.update_traces(\n",
    "    hoverinfo = 'label+percent+value',\n",
    "    textinfo = 'label+percent+value',\n",
    "    textfont_size = 16,\n",
    "    marker = {'colors': ['red', 'green', 'yellow'], 'line' : {'color': 'white', 'width':5}}\n",
    "    )\n",
    "\n",
    "fig.write_html(\n",
    "    'pie.html',\n",
    "    auto_open = False)\n",
    "\n",
    "from IPython.display import IFrame\n",
    "IFrame(src='./pie.html', width=700, height=600)"
   ]
  },
  {
   "cell_type": "markdown",
   "metadata": {},
   "source": [
    "### _DONUT PIE_"
   ]
  },
  {
   "cell_type": "code",
   "execution_count": 41,
   "metadata": {},
   "outputs": [
    {
     "data": {
      "text/html": [
       "\n",
       "        <iframe\n",
       "            width=\"700\"\n",
       "            height=\"600\"\n",
       "            src=\"./donut.html\"\n",
       "            frameborder=\"0\"\n",
       "            allowfullscreen\n",
       "        ></iframe>\n",
       "        "
      ],
      "text/plain": [
       "<IPython.lib.display.IFrame at 0x1d9b60f1580>"
      ]
     },
     "execution_count": 41,
     "metadata": {},
     "output_type": "execute_result"
    }
   ],
   "source": [
    "plot = go.Pie(\n",
    "    labels = ['Ayam', 'Bebek', 'Kalkun'],\n",
    "    values = [45, 10, 18],\n",
    "    hole=.5)\n",
    "\n",
    "fig = go.Figure(\n",
    "    data = [plot],\n",
    "    layout_title_text = 'Donut Plot')\n",
    "\n",
    "fig.update_traces(\n",
    "    hoverinfo = 'label+percent+value',\n",
    "    textinfo = 'label+percent+value',\n",
    "    textfont_size = 16,\n",
    "    marker = {'colors': ['red', 'green', 'yellow'], 'line' : {'color': 'white', 'width':5}}\n",
    "    )\n",
    "\n",
    "fig.write_html(\n",
    "    'donut.html',\n",
    "    auto_open = False)\n",
    "\n",
    "from IPython.display import IFrame\n",
    "IFrame(src='./donut.html', width=700, height=600)"
   ]
  },
  {
   "cell_type": "code",
   "execution_count": null,
   "metadata": {},
   "outputs": [],
   "source": [
    "# import plotly.io as pio\n",
    "\n",
    "# fig = {\n",
    "#     \"data\": [\n",
    "#         {\"type\": \"scatter\", \"x\": np.arange(10), \"y\": np.arange(10)}\n",
    "#     ]\n",
    "# }"
   ]
  }
 ],
 "metadata": {
  "kernelspec": {
   "display_name": "Python 3",
   "language": "python",
   "name": "python3"
  },
  "language_info": {
   "codemirror_mode": {
    "name": "ipython",
    "version": 3
   },
   "file_extension": ".py",
   "mimetype": "text/x-python",
   "name": "python",
   "nbconvert_exporter": "python",
   "pygments_lexer": "ipython3",
   "version": "3.8.1"
  }
 },
 "nbformat": 4,
 "nbformat_minor": 4
}
